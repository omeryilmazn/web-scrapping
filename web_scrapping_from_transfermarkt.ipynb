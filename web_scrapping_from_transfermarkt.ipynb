{
 "cells": [
  {
   "cell_type": "code",
   "execution_count": 1,
   "id": "e634e353-2027-4a14-aa37-59ef3a167b55",
   "metadata": {
    "tags": []
   },
   "outputs": [],
   "source": [
    "import re\n",
    "import requests\n",
    "from bs4 import BeautifulSoup"
   ]
  },
  {
   "cell_type": "code",
   "execution_count": 2,
   "id": "c82b1589-db81-47d2-80af-462d584772cf",
   "metadata": {
    "tags": []
   },
   "outputs": [],
   "source": [
    "url = \"https://www.transfermarkt.com/jude-bellingham/profil/spieler/581678\""
   ]
  },
  {
   "cell_type": "code",
   "execution_count": 3,
   "id": "d102bab5-fc3c-468c-8183-91cfeeb50e35",
   "metadata": {
    "tags": []
   },
   "outputs": [],
   "source": [
    "player_id = url.split(\"/\")[-1] #son splashten sonraki bölümü ayırmak için komut"
   ]
  },
  {
   "cell_type": "code",
   "execution_count": 6,
   "id": "0ccdc1d7-55fb-4412-8bb8-de4814a44cd6",
   "metadata": {
    "tags": []
   },
   "outputs": [],
   "source": [
    "headers = {\n",
    "    \"User-Agent\" : \"Mozilla/5.0 (Macintosh; Intel Mac OS X 10_15_7) AppleWebKit/605.1.15 (KHTML, like Gecko) Version/17.0 Safari/605.1.15\"\n",
    "}\n",
    "#gerçek kullanıcı oluşu kanıtlamak için headers bilgisini veren komut"
   ]
  },
  {
   "cell_type": "code",
   "execution_count": 7,
   "id": "934c4a29-bb1c-44f4-a2ad-3429ab174a8c",
   "metadata": {
    "tags": []
   },
   "outputs": [],
   "source": [
    "response = requests.get(url, headers = headers)"
   ]
  },
  {
   "cell_type": "code",
   "execution_count": 8,
   "id": "37a98f0a-ac9c-45b3-ba47-6aed575e73b5",
   "metadata": {
    "tags": []
   },
   "outputs": [
    {
     "data": {
      "text/plain": [
       "200"
      ]
     },
     "execution_count": 8,
     "metadata": {},
     "output_type": "execute_result"
    }
   ],
   "source": [
    "response.status_code #sonuc 200 ise dogru yapılmış demektir"
   ]
  },
  {
   "cell_type": "code",
   "execution_count": null,
   "id": "959b8f0a-90da-42ce-b1a5-538dea9d15cd",
   "metadata": {},
   "outputs": [],
   "source": [
    "soup = BeautifulSoup(response.content, \"html.parsel\")"
   ]
  },
  {
   "cell_type": "code",
   "execution_count": null,
   "id": "9e0aea17-c8bc-41a1-adec-f245c400400e",
   "metadata": {},
   "outputs": [],
   "source": []
  },
  {
   "cell_type": "code",
   "execution_count": null,
   "id": "9d5cf93e-7fcd-4f88-a1cc-532783854ba4",
   "metadata": {},
   "outputs": [],
   "source": []
  },
  {
   "cell_type": "code",
   "execution_count": null,
   "id": "e5121d31-8dfc-4159-8bcd-d1f96a80ac7e",
   "metadata": {},
   "outputs": [],
   "source": []
  },
  {
   "cell_type": "code",
   "execution_count": null,
   "id": "b2d9df2e-c494-4b41-9565-ac89015e4a5e",
   "metadata": {},
   "outputs": [],
   "source": []
  }
 ],
 "metadata": {
  "kernelspec": {
   "display_name": "Python 3 (ipykernel)",
   "language": "python",
   "name": "python3"
  },
  "language_info": {
   "codemirror_mode": {
    "name": "ipython",
    "version": 3
   },
   "file_extension": ".py",
   "mimetype": "text/x-python",
   "name": "python",
   "nbconvert_exporter": "python",
   "pygments_lexer": "ipython3",
   "version": "3.11.5"
  }
 },
 "nbformat": 4,
 "nbformat_minor": 5
}
